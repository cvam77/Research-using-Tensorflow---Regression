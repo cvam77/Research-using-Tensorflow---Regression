{
 "cells": [
  {
   "cell_type": "code",
   "execution_count": 81,
   "metadata": {},
   "outputs": [
    {
     "data": {
      "text/html": [
       "<div>\n",
       "<style scoped>\n",
       "    .dataframe tbody tr th:only-of-type {\n",
       "        vertical-align: middle;\n",
       "    }\n",
       "\n",
       "    .dataframe tbody tr th {\n",
       "        vertical-align: top;\n",
       "    }\n",
       "\n",
       "    .dataframe thead th {\n",
       "        text-align: right;\n",
       "    }\n",
       "</style>\n",
       "<table border=\"1\" class=\"dataframe\">\n",
       "  <thead>\n",
       "    <tr style=\"text-align: right;\">\n",
       "      <th></th>\n",
       "      <th>cpt3_c_T</th>\n",
       "    </tr>\n",
       "  </thead>\n",
       "  <tbody>\n",
       "    <tr>\n",
       "      <th>47</th>\n",
       "      <td>-1.640744</td>\n",
       "    </tr>\n",
       "    <tr>\n",
       "      <th>64</th>\n",
       "      <td>0.193427</td>\n",
       "    </tr>\n",
       "    <tr>\n",
       "      <th>7</th>\n",
       "      <td>-0.723659</td>\n",
       "    </tr>\n",
       "    <tr>\n",
       "      <th>54</th>\n",
       "      <td>-0.265116</td>\n",
       "    </tr>\n",
       "    <tr>\n",
       "      <th>70</th>\n",
       "      <td>-0.112269</td>\n",
       "    </tr>\n",
       "    <tr>\n",
       "      <th>...</th>\n",
       "      <td>...</td>\n",
       "    </tr>\n",
       "    <tr>\n",
       "      <th>52</th>\n",
       "      <td>0.728393</td>\n",
       "    </tr>\n",
       "    <tr>\n",
       "      <th>133</th>\n",
       "      <td>2.409716</td>\n",
       "    </tr>\n",
       "    <tr>\n",
       "      <th>106</th>\n",
       "      <td>-0.647235</td>\n",
       "    </tr>\n",
       "    <tr>\n",
       "      <th>87</th>\n",
       "      <td>-0.341540</td>\n",
       "    </tr>\n",
       "    <tr>\n",
       "      <th>68</th>\n",
       "      <td>-0.570811</td>\n",
       "    </tr>\n",
       "  </tbody>\n",
       "</table>\n",
       "<p>113 rows × 1 columns</p>\n",
       "</div>"
      ],
      "text/plain": [
       "     cpt3_c_T\n",
       "47  -1.640744\n",
       "64   0.193427\n",
       "7   -0.723659\n",
       "54  -0.265116\n",
       "70  -0.112269\n",
       "..        ...\n",
       "52   0.728393\n",
       "133  2.409716\n",
       "106 -0.647235\n",
       "87  -0.341540\n",
       "68  -0.570811\n",
       "\n",
       "[113 rows x 1 columns]"
      ]
     },
     "execution_count": 81,
     "metadata": {},
     "output_type": "execute_result"
    }
   ],
   "source": [
    "from __future__ import absolute_import, division, print_function\n",
    "import pathlib\n",
    "import pandas as pd\n",
    "import seaborn as sns\n",
    "import matplotlib.pyplot as plt\n",
    "import tensorflow as tf\n",
    "from tensorflow import keras\n",
    "from tensorflow.keras import layers\n",
    "\n",
    "dataset_path = keras.utils.get_file(\"auto-mpg.data\",\"https://archive.ics.uci.edu/ml/machine-learning-databases/auto-mpg/auto-mpg.data\")\n",
    "\n",
    "column_names = ['MPG','Cylinders','Displacement','Horsepower','Weight','Acceleration',\n",
    "               'Model Year','Origin']\n",
    "raw_dataset=pd.read_excel(\"OTV_Data.xlsx\")\n",
    "\n",
    "dataset = raw_dataset.copy()\n",
    "dataset.isna().sum()\n",
    "\n",
    "experiment = pd.DataFrame()\n",
    "\n",
    "#the first dependent variable\n",
    "experiment['EpiT_Avg_R']=dataset['EpiT_Avg_R']\n",
    "experiment['EpiT_Avg_R'] = pd.to_numeric(experiment['EpiT_Avg_R'],errors='coerce')\n",
    "\n",
    "#the first independent variable\n",
    "experiment['cpt3_c_T'] = dataset['cpt3_c_T']\n",
    "experiment['cpt3_c_T'] = pd.to_numeric(experiment['cpt3_c_T'],errors='coerce')\n",
    "\n",
    "# experiment['cpt3_dpr_T'] = dataset['cpt3_dpr_T']\n",
    "# experiment['cpt3_dpr_T'] = pd.to_numeric(experiment['cpt3_dpr_T'],errors='coerce')\n",
    "\n",
    "# experiment['cpt3_omi_T'] = dataset['cpt3_omi_T']\n",
    "# experiment['cpt3_omi_T'] = pd.to_numeric(experiment['cpt3_omi_T'],errors='coerce')\n",
    "\n",
    "# experiment['cpt3_com_T'] = dataset['cpt3_com_T']\n",
    "# experiment['cpt3_com_T'] = pd.to_numeric(experiment['cpt3_com_T'],errors='coerce')\n",
    "\n",
    "# experiment['cpt3_prs_T'] = dataset['cpt3_prs_T']\n",
    "# experiment['cpt3_prs_T'] = pd.to_numeric(experiment['cpt3_prs_T'],errors='coerce')\n",
    "\n",
    "# experiment['cpt3_hrt_T'] = dataset['cpt3_hrt_T']\n",
    "# experiment['cpt3_hrt_T'] = pd.to_numeric(experiment['cpt3_hrt_T'],errors='coerce')\n",
    "\n",
    "# experiment['cpt3_hrtsd_T'] = dataset['cpt3_hrtsd_T']\n",
    "# experiment['cpt3_hrtsd_T'] = pd.to_numeric(experiment['cpt3_hrtsd_T'],errors='coerce')\n",
    "\n",
    "# experiment['cpt3_var_T'] = dataset['cpt3_var_T']\n",
    "# experiment['cpt3_var_T'] = pd.to_numeric(experiment['cpt3_var_T'],errors='coerce')\n",
    "\n",
    "# experiment['cpt3_blkch_T'] = dataset['cpt3_blkch_T']\n",
    "# experiment['cpt3_blkch_T'] = pd.to_numeric(experiment['cpt3_blkch_T'],errors='coerce')\n",
    "\n",
    "# experiment['cpt3_isich_T'] = dataset['cpt3_isich_T']\n",
    "# experiment['cpt3_isich_T'] = pd.to_numeric(experiment['cpt3_isich_T'],errors='coerce')\n",
    "\n",
    "# temp_name = 'age'\n",
    "# experiment[temp_name] = dataset[temp_name]\n",
    "# experiment[temp_name] = pd.to_numeric(experiment[temp_name],errors='coerce')\n",
    "\n",
    "experiment = experiment.dropna()\n",
    "experiment = experiment.drop(experiment[experiment['cpt3_c_T']>900].index)\n",
    "# sns.pairplot(experiment)\n",
    "\n",
    "# plt.plot(experiment['cpt3_dpr_T'],experiment['EpiT_Avg_R'])\n",
    "# plt.show()\n",
    "\n",
    "# sns.pairplot(experiment[['EpiT_Avg_R', 'cpt3_c_T', 'cpt3_dpr_T','cpt3_omi_T', 'cpt3_com_T']],diag_kind=\"kde\")\n",
    "\n",
    "#training and testing dataset\n",
    "train_dataset = experiment.sample(frac=0.8, random_state=0)\n",
    "test_dataset = experiment.drop(train_dataset.index)\n",
    "\n",
    "train_stats = train_dataset.describe()\n",
    "train_stats.pop('EpiT_Avg_R')\n",
    "train_stats = train_stats.transpose()\n",
    "\n",
    "train_labels = train_dataset.pop('EpiT_Avg_R')\n",
    "test_labels = test_dataset.pop('EpiT_Avg_R')\n",
    "\n",
    "#normalize the data\n",
    "def norm(x):\n",
    "    return (x - train_stats['mean']) / train_stats['std']\n",
    "\n",
    "normed_train_data = norm(train_dataset)\n",
    "normed_test_data = norm(test_dataset)\n",
    "\n",
    "\n",
    "\n",
    "\n"
   ]
  },
  {
   "cell_type": "code",
   "execution_count": 82,
   "metadata": {},
   "outputs": [
    {
     "data": {
      "text/plain": [
       "[<matplotlib.lines.Line2D at 0x20c5d5fb550>]"
      ]
     },
     "execution_count": 82,
     "metadata": {},
     "output_type": "execute_result"
    },
    {
     "data": {
      "image/png": "[encoded data removed]",
      "text/plain": [
       "<Figure size 432x288 with 1 Axes>"
      ]
     },
     "metadata": {
      "needs_background": "light"
     },
     "output_type": "display_data"
    }
   ],
   "source": [
    "\n",
    "import numpy as np\n",
    "\n",
    "normed_train_data = normed_train_data\n",
    "plt.scatter(normed_train_data['cpt3_c_T'],train_labels)\n",
    "plt.xlabel('cpt3_c_T')\n",
    "plt.ylabel('EpiT_Avg_R')\n",
    "plt.xlim([0,0.1])\n",
    "\n",
    "\n",
    "m, b = np.polyfit(normed_train_data['cpt3_c_T'], train_labels, 1)\n",
    "plt.plot(normed_train_data['cpt3_c_T'], m*normed_train_data['cpt3_c_T'] + b)\n",
    "\n"
   ]
  },
  {
   "cell_type": "code",
   "execution_count": null,
   "metadata": {},
   "outputs": [],
   "source": [
    "\n",
    "# building the model\n",
    "def build_model():\n",
    "    model = keras.Sequential([\n",
    "        layers.Dense(64, activation=tf.nn.relu, input_shape=[len(train_dataset.keys())]),\n",
    "        layers.Dense(64, activation=tf.nn.relu),\n",
    "        layers.Dense(1)\n",
    "    ])\n",
    "    \n",
    "    optimizer = tf.keras.optimizers.RMSprop(0.001)\n",
    "    \n",
    "    model.compile(loss='mse',\n",
    "                 optimizer=optimizer,\n",
    "                 metrics=['mae','mse', 'accuracy'])\n",
    "    \n",
    "    return model\n",
    "\n",
    "\n",
    "model = build_model()\n",
    "# model.summary()"
   ]
  },
  {
   "cell_type": "code",
   "execution_count": 155,
   "metadata": {},
   "outputs": [],
   "source": [
    "class PrintDot(keras.callbacks.Callback):\n",
    "    def on_epoch_end(self,epoch,logs):\n",
    "        if epoch%100==0: print('')\n",
    "        print('.',end='')\n",
    "        \n",
    "EPOCHS=1000\n",
    "\n",
    "\n"
   ]
  },
  {
   "cell_type": "code",
   "execution_count": 156,
   "metadata": {},
   "outputs": [],
   "source": [
    "hist = pd.DataFrame(history.history)\n",
    "hist['epoch'] = history.epoch"
   ]
  },
  {
   "cell_type": "code",
   "execution_count": 157,
   "metadata": {},
   "outputs": [],
   "source": [
    "def plot_history(history):\n",
    "    hist = pd.DataFrame(history.history)\n",
    "    hist['epoch'] = history.epoch\n",
    "    \n",
    "    plt.figure()\n",
    "    plt.xlabel('Epoch')\n",
    "    plt.ylabel('Mean Abs Error [Average]')\n",
    "    plt.plot(hist['epoch'],hist['mae'],\n",
    "            label='Train Error')\n",
    "    plt.plot(hist['epoch'],hist['val_mae'],\n",
    "            label='Val Error')\n",
    "    plt.legend()\n",
    "    plt.ylim([0,5])\n",
    "    \n",
    "    plt.figure()\n",
    "    plt.xlabel('Epoch')\n",
    "    plt.ylabel('Mean Square Error [$MPG^2$]')\n",
    "    plt.plot(hist['epoch'],hist['mse'],\n",
    "            label='Train Error')\n",
    "    plt.plot(hist['epoch'],hist['val_mse'],\n",
    "            label='Val Error')\n",
    "    plt.legend()\n",
    "    plt.ylim([0,20])\n",
    "    \n"
   ]
  },
  {
   "cell_type": "code",
   "execution_count": 158,
   "metadata": {},
   "outputs": [
    {
     "name": "stdout",
     "output_type": "stream",
     "text": [
      "\n",
      "................................"
     ]
    },
    {
     "data": {
      "text/plain": [
       "[313.75335693359375,\n",
       " 4.157550811767578,\n",
       " 313.75335693359375,\n",
       " 0.06896551698446274]"
      ]
     },
     "execution_count": 158,
     "metadata": {},
     "output_type": "execute_result"
    },
    {
     "data": {
      "image/png": "[encoded data removed]",
      "text/plain": [
       "<Figure size 432x288 with 1 Axes>"
      ]
     },
     "metadata": {
      "needs_background": "light"
     },
     "output_type": "display_data"
    },
    {
     "data": {
      "image/png": "[encoded data removed]",
      "text/plain": [
       "<Figure size 432x288 with 1 Axes>"
      ]
     },
     "metadata": {
      "needs_background": "light"
     },
     "output_type": "display_data"
    }
   ],
   "source": [
    "model = build_model()\n",
    "\n",
    "early_stop = keras.callbacks.EarlyStopping(monitor='val_loss',patience=10)\n",
    "\n",
    "history = model.fit(\n",
    "    normed_train_data, train_labels,\n",
    "    epochs=EPOCHS, validation_split = 0.2, verbose=0,\n",
    "    callbacks=[early_stop, PrintDot()])\n",
    "\n",
    "plot_history(history)\n",
    "score= model.evaluate(normed_test_data, test_labels, verbose=0)\n",
    "# print(\"Accuracy: \",score[1])\n",
    "score\n"
   ]
  },
  {
   "cell_type": "code",
   "execution_count": 159,
   "metadata": {},
   "outputs": [
    {
     "data": {
      "image/png": "[encoded data removed]",
      "text/plain": [
       "<Figure size 432x288 with 1 Axes>"
      ]
     },
     "metadata": {
      "needs_background": "light"
     },
     "output_type": "display_data"
    }
   ],
   "source": [
    "test_predictions = model.predict(normed_test_data).flatten()\n",
    "plt.scatter(test_labels,test_predictions)\n",
    "plt.xlabel('True Values [Average]')\n",
    "plt.ylabel('Predictions [Average]')\n",
    "plt.axis('equal')\n",
    "plt.axis('square')\n",
    "plt.xlim([0,plt.xlim()[1]])\n",
    "plt.ylim([0, plt.ylim()[1]])\n",
    "_ = plt.plot([-100,100],[-100,100])"
   ]
  },
  {
   "cell_type": "code",
   "execution_count": 160,
   "metadata": {},
   "outputs": [
    {
     "data": {
      "image/png": "[encoded data removed]",
      "text/plain": [
       "<Figure size 432x288 with 1 Axes>"
      ]
     },
     "metadata": {
      "needs_background": "light"
     },
     "output_type": "display_data"
    }
   ],
   "source": [
    "error = test_predictions - test_labels\n",
    "plt.hist(error,bins=25)\n",
    "plt.xlabel(\"Prediction Error [Average]\")\n",
    "_ = plt.ylabel(\"Count\")"
   ]
  },
  {
   "cell_type": "code",
   "execution_count": 161,
   "metadata": {},
   "outputs": [
    {
     "data": {
      "text/plain": [
       "[<matplotlib.lines.Line2D at 0x192c1fa3f70>]"
      ]
     },
     "execution_count": 161,
     "metadata": {},
     "output_type": "execute_result"
    },
    {
     "data": {
      "image/png": "[encoded data removed]",
      "text/plain": [
       "<Figure size 432x288 with 1 Axes>"
      ]
     },
     "metadata": {
      "needs_background": "light"
     },
     "output_type": "display_data"
    }
   ],
   "source": [
    "\n",
    "plt.scatter(normed_train_data['cpt3_c_T'],train_labels)\n",
    "plt.xlabel('cpt3_c_T')\n",
    "plt.ylabel('EpiT_Avg_R')\n",
    "plt.xlim([0,0.3])\n",
    "\n",
    "\n",
    "m, b = np.polyfit(normed_train_data['cpt3_c_T'], train_labels, 1)\n",
    "plt.plot(normed_train_data['cpt3_c_T'], m*normed_train_data['cpt3_c_T'] + b)"
   ]
  },
  {
   "cell_type": "code",
   "execution_count": 168,
   "metadata": {},
   "outputs": [
    {
     "data": {
      "text/plain": [
       "[<matplotlib.lines.Line2D at 0x192c21ddb50>]"
      ]
     },
     "execution_count": 168,
     "metadata": {},
     "output_type": "execute_result"
    },
    {
     "data": {
      "image/png": "[encoded data removed]",
      "text/plain": [
       "<Figure size 432x288 with 1 Axes>"
      ]
     },
     "metadata": {
      "needs_background": "light"
     },
     "output_type": "display_data"
    }
   ],
   "source": [
    "# experiment['cpt3_isich_T'] = dataset['cpt3_isich_T']\n",
    "# experiment['cpt3_isich_T'] = pd.to_numeric(experiment['cpt3_isich_T'],errors='coerce')\n",
    "\n",
    "cname = 'age'\n",
    "plt.scatter(normed_train_data[cname],train_labels)\n",
    "plt.xlabel(cname)\n",
    "plt.ylabel('EpiT_Avg_R')\n",
    "plt.xlim([0,1])\n",
    "\n",
    "\n",
    "m, b = np.polyfit(normed_train_data[cname], train_labels, 1)\n",
    "plt.plot(normed_train_data[cname], m*normed_train_data[cname] + b)\n",
    "\n"
   ]
  }
 ],
 "metadata": {
  "kernelspec": {
   "display_name": "Python 3",
   "language": "python",
   "name": "python3"
  },
  "language_info": {
   "codemirror_mode": {
    "name": "ipython",
    "version": 3
   },
   "file_extension": ".py",
   "mimetype": "text/x-python",
   "name": "python",
   "nbconvert_exporter": "python",
   "pygments_lexer": "ipython3",
   "version": "3.8.5"
  }
 },
 "nbformat": 4,
 "nbformat_minor": 4
}
